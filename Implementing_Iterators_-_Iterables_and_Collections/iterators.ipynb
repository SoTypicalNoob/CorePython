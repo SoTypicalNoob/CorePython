{
 "cells": [
  {
   "cell_type": "code",
   "execution_count": 1,
   "id": "85c09b99-7054-4bcd-995d-aa86cbd73671",
   "metadata": {},
   "outputs": [],
   "source": [
    "class LevelOrderIterator:\n",
    "    \n",
    "    def __init__(self, sequence):\n",
    "        self._sequence = sequence\n",
    "        self._index = 0\n",
    "        \n",
    "    def __next__(self):\n",
    "        if self._index >= len(self._sequence):\n",
    "            raise StopIteration\n",
    "        result = self._sequence[self._index]\n",
    "        self._index += 1\n",
    "        return result\n",
    "    \n",
    "    def __iter__(self):\n",
    "        return self"
   ]
  },
  {
   "cell_type": "code",
   "execution_count": 2,
   "id": "8f57890f-137e-456a-bcfd-520a57f80e8d",
   "metadata": {},
   "outputs": [
    {
     "output_type": "execute_result",
     "data": {
      "text/plain": [
       "'*'"
      ]
     },
     "metadata": {},
     "execution_count": 2
    }
   ],
   "source": [
    "expr_tree = ['*', '+', '-', 'a', 'b', 'c', 'd']\n",
    "iterator = LevelOrderIterator(expr_tree)\n",
    "next(iterator)"
   ]
  },
  {
   "cell_type": "code",
   "execution_count": 3,
   "id": "ae2ffbab-38be-44cc-87d4-47457b4da4e0",
   "metadata": {},
   "outputs": [
    {
     "output_type": "execute_result",
     "data": {
      "text/plain": [
       "'+'"
      ]
     },
     "metadata": {},
     "execution_count": 3
    }
   ],
   "source": [
    "next(iterator)"
   ]
  },
  {
   "cell_type": "code",
   "execution_count": 4,
   "id": "1acb2fdf-8c01-47ee-abfe-3aa0725dd8aa",
   "metadata": {},
   "outputs": [
    {
     "output_type": "execute_result",
     "data": {
      "text/plain": [
       "'-'"
      ]
     },
     "metadata": {},
     "execution_count": 4
    }
   ],
   "source": [
    "next(iterator)"
   ]
  },
  {
   "cell_type": "code",
   "execution_count": 5,
   "id": "57de9fe7-893e-4dee-82fb-54af2b49f08a",
   "metadata": {},
   "outputs": [
    {
     "output_type": "execute_result",
     "data": {
      "text/plain": [
       "'a'"
      ]
     },
     "metadata": {},
     "execution_count": 5
    }
   ],
   "source": [
    "next(iterator)"
   ]
  },
  {
   "cell_type": "code",
   "execution_count": 6,
   "id": "cd1fe224-ecf9-473a-aae3-535ace50d227",
   "metadata": {},
   "outputs": [
    {
     "output_type": "execute_result",
     "data": {
      "text/plain": [
       "'b'"
      ]
     },
     "metadata": {},
     "execution_count": 6
    }
   ],
   "source": [
    "next(iterator)"
   ]
  },
  {
   "cell_type": "code",
   "execution_count": 7,
   "id": "ddfcaa6d-bb4e-4105-9a83-92af2fa8a111",
   "metadata": {},
   "outputs": [
    {
     "output_type": "execute_result",
     "data": {
      "text/plain": [
       "'c'"
      ]
     },
     "metadata": {},
     "execution_count": 7
    }
   ],
   "source": [
    "next(iterator)"
   ]
  },
  {
   "cell_type": "code",
   "execution_count": 8,
   "id": "aaeebd21-22dd-4cf9-82f4-7afbd0ba6b73",
   "metadata": {},
   "outputs": [
    {
     "output_type": "execute_result",
     "data": {
      "text/plain": [
       "'d'"
      ]
     },
     "metadata": {},
     "execution_count": 8
    }
   ],
   "source": [
    "next(iterator)"
   ]
  },
  {
   "cell_type": "code",
   "execution_count": 9,
   "id": "66d9bf7b-bf19-49bb-906c-197081154da8",
   "metadata": {},
   "outputs": [
    {
     "output_type": "error",
     "ename": "StopIteration",
     "evalue": "",
     "traceback": [
      "\u001b[0;31m---------------------------------------------------------------------------\u001b[0m",
      "\u001b[0;31mStopIteration\u001b[0m                             Traceback (most recent call last)",
      "\u001b[0;32m<ipython-input-9-4ce711c44abc>\u001b[0m in \u001b[0;36m<module>\u001b[0;34m\u001b[0m\n\u001b[0;32m----> 1\u001b[0;31m \u001b[0mnext\u001b[0m\u001b[0;34m(\u001b[0m\u001b[0miterator\u001b[0m\u001b[0;34m)\u001b[0m\u001b[0;34m\u001b[0m\u001b[0;34m\u001b[0m\u001b[0m\n\u001b[0m",
      "\u001b[0;32m<ipython-input-1-671d82251f5d>\u001b[0m in \u001b[0;36m__next__\u001b[0;34m(self)\u001b[0m\n\u001b[1;32m      7\u001b[0m     \u001b[0;32mdef\u001b[0m \u001b[0m__next__\u001b[0m\u001b[0;34m(\u001b[0m\u001b[0mself\u001b[0m\u001b[0;34m)\u001b[0m\u001b[0;34m:\u001b[0m\u001b[0;34m\u001b[0m\u001b[0;34m\u001b[0m\u001b[0m\n\u001b[1;32m      8\u001b[0m         \u001b[0;32mif\u001b[0m \u001b[0mself\u001b[0m\u001b[0;34m.\u001b[0m\u001b[0m_index\u001b[0m \u001b[0;34m>=\u001b[0m \u001b[0mlen\u001b[0m\u001b[0;34m(\u001b[0m\u001b[0mself\u001b[0m\u001b[0;34m.\u001b[0m\u001b[0m_sequence\u001b[0m\u001b[0;34m)\u001b[0m\u001b[0;34m:\u001b[0m\u001b[0;34m\u001b[0m\u001b[0;34m\u001b[0m\u001b[0m\n\u001b[0;32m----> 9\u001b[0;31m             \u001b[0;32mraise\u001b[0m \u001b[0mStopIteration\u001b[0m\u001b[0;34m\u001b[0m\u001b[0;34m\u001b[0m\u001b[0m\n\u001b[0m\u001b[1;32m     10\u001b[0m         \u001b[0mresult\u001b[0m \u001b[0;34m=\u001b[0m \u001b[0mself\u001b[0m\u001b[0;34m.\u001b[0m\u001b[0m_sequence\u001b[0m\u001b[0;34m[\u001b[0m\u001b[0mself\u001b[0m\u001b[0;34m.\u001b[0m\u001b[0m_index\u001b[0m\u001b[0;34m]\u001b[0m\u001b[0;34m\u001b[0m\u001b[0;34m\u001b[0m\u001b[0m\n\u001b[1;32m     11\u001b[0m         \u001b[0mself\u001b[0m\u001b[0;34m.\u001b[0m\u001b[0m_index\u001b[0m \u001b[0;34m+=\u001b[0m \u001b[0;36m1\u001b[0m\u001b[0;34m\u001b[0m\u001b[0;34m\u001b[0m\u001b[0m\n",
      "\u001b[0;31mStopIteration\u001b[0m: "
     ]
    }
   ],
   "source": [
    "next(iterator)"
   ]
  },
  {
   "cell_type": "code",
   "execution_count": 14,
   "id": "1f0d41c2-7500-4aa5-ba62-100f221eeb95",
   "metadata": {},
   "outputs": [
    {
     "data": {
      "text/plain": [
       "'* + - a b c d'"
      ]
     },
     "execution_count": 14,
     "metadata": {},
     "output_type": "execute_result"
    }
   ],
   "source": [
    "iterator = LevelOrderIterator(expr_tree)\n",
    "\" \".join(iterator)"
   ]
  },
  {
   "cell_type": "code",
   "execution_count": 3,
   "id": "a163f5df-11d5-42c6-abd3-acfcf7787132",
   "metadata": {},
   "outputs": [],
   "source": [
    "def _is_perfect_length(sequence):\n",
    "    \"\"\"True if sequence has a length 2n -1, otherwise False.\"\"\"\n",
    "    n = len(sequence)\n",
    "    return ((n + 1) & n == 0) and (n != 0)\n",
    "\n",
    "class LevelOrderIterator:\n",
    "    \n",
    "    def __init__(self, sequence):\n",
    "        self._sequence = sequence\n",
    "        self._index = 0\n",
    "        \n",
    "    def __next__(self):\n",
    "        if self._index >= len(self._sequence):\n",
    "            raise StopIteration\n",
    "        result = self._sequence[self._index]\n",
    "        self._index += 1\n",
    "        return result\n",
    "    \n",
    "    def __iter__(self):\n",
    "        return self"
   ]
  },
  {
   "cell_type": "code",
   "execution_count": 16,
   "id": "1d6a8d00-1395-40c4-8087-f689ae4d8e27",
   "metadata": {},
   "outputs": [
    {
     "data": {
      "text/plain": [
       "{0: False,\n",
       " 1: True,\n",
       " 2: False,\n",
       " 3: True,\n",
       " 4: False,\n",
       " 5: False,\n",
       " 6: False,\n",
       " 7: True,\n",
       " 8: False,\n",
       " 9: False,\n",
       " 10: False,\n",
       " 11: False,\n",
       " 12: False,\n",
       " 13: False,\n",
       " 14: False,\n",
       " 15: True,\n",
       " 16: False,\n",
       " 17: False,\n",
       " 18: False,\n",
       " 19: False,\n",
       " 20: False,\n",
       " 21: False,\n",
       " 22: False,\n",
       " 23: False,\n",
       " 24: False,\n",
       " 25: False,\n",
       " 26: False,\n",
       " 27: False,\n",
       " 28: False,\n",
       " 29: False,\n",
       " 30: False,\n",
       " 31: True}"
      ]
     },
     "execution_count": 16,
     "metadata": {},
     "output_type": "execute_result"
    }
   ],
   "source": [
    "{i: _is_perfect_length(['x']*i) for i in range(0, 32)}"
   ]
  },
  {
   "cell_type": "code",
   "execution_count": 4,
   "id": "5e6e907c-2002-4198-9d7b-3bd773c683a8",
   "metadata": {},
   "outputs": [],
   "source": [
    "def _is_perfect_length(sequence):\n",
    "    \"\"\"True if sequence has a length 2n -1, otherwise False.\"\"\"\n",
    "    n = len(sequence)\n",
    "    return ((n + 1) & n == 0) and (n != 0)\n",
    "\n",
    "class LevelOrderIterator:\n",
    "    \n",
    "    def __init__(self, sequence):\n",
    "        if not _is_perfect_length(sequence):\n",
    "            raise ValueError(\n",
    "            f\"Sequence of Length {len(sequence)} does not represent \"\n",
    "            \"a perfect binary tree with length 2n -1\"\n",
    "            )            \n",
    "        self._sequence = sequence\n",
    "        self._index = 0\n",
    "        \n",
    "    def __next__(self):\n",
    "        if self._index >= len(self._sequence):\n",
    "            raise StopIteration\n",
    "        result = self._sequence[self._index]\n",
    "        self._index += 1\n",
    "        return result\n",
    "    \n",
    "    def __iter__(self):\n",
    "        return self"
   ]
  },
  {
   "cell_type": "code",
   "execution_count": 18,
   "id": "3824dea3-741d-4dbc-9ce9-37bbd3f8a604",
   "metadata": {},
   "outputs": [
    {
     "ename": "ValueError",
     "evalue": "Sequence of Length 4 does not represent a perfect binary tree with length 2n -1",
     "output_type": "error",
     "traceback": [
      "\u001b[0;31m---------------------------------------------------------------------------\u001b[0m",
      "\u001b[0;31mValueError\u001b[0m                                Traceback (most recent call last)",
      "\u001b[0;32m<ipython-input-18-7f511f37a8da>\u001b[0m in \u001b[0;36m<module>\u001b[0;34m\u001b[0m\n\u001b[1;32m      1\u001b[0m \u001b[0mnon_tree\u001b[0m \u001b[0;34m=\u001b[0m \u001b[0;34m\"+ 24 12 -\"\u001b[0m\u001b[0;34m.\u001b[0m\u001b[0msplit\u001b[0m\u001b[0;34m(\u001b[0m\u001b[0;34m)\u001b[0m\u001b[0;34m\u001b[0m\u001b[0;34m\u001b[0m\u001b[0m\n\u001b[0;32m----> 2\u001b[0;31m \u001b[0miterator\u001b[0m \u001b[0;34m=\u001b[0m \u001b[0mLevelOrderIterator\u001b[0m\u001b[0;34m(\u001b[0m\u001b[0mnon_tree\u001b[0m\u001b[0;34m)\u001b[0m\u001b[0;34m\u001b[0m\u001b[0;34m\u001b[0m\u001b[0m\n\u001b[0m",
      "\u001b[0;32m<ipython-input-17-b3bf3c908278>\u001b[0m in \u001b[0;36m__init__\u001b[0;34m(self, sequence)\u001b[0m\n\u001b[1;32m      8\u001b[0m     \u001b[0;32mdef\u001b[0m \u001b[0m__init__\u001b[0m\u001b[0;34m(\u001b[0m\u001b[0mself\u001b[0m\u001b[0;34m,\u001b[0m \u001b[0msequence\u001b[0m\u001b[0;34m)\u001b[0m\u001b[0;34m:\u001b[0m\u001b[0;34m\u001b[0m\u001b[0;34m\u001b[0m\u001b[0m\n\u001b[1;32m      9\u001b[0m         \u001b[0;32mif\u001b[0m \u001b[0;32mnot\u001b[0m \u001b[0m_is_perfect_length\u001b[0m\u001b[0;34m(\u001b[0m\u001b[0msequence\u001b[0m\u001b[0;34m)\u001b[0m\u001b[0;34m:\u001b[0m\u001b[0;34m\u001b[0m\u001b[0;34m\u001b[0m\u001b[0m\n\u001b[0;32m---> 10\u001b[0;31m             raise ValueError(\n\u001b[0m\u001b[1;32m     11\u001b[0m             \u001b[0;34mf\"Sequence of Length {len(sequence)} does not represent \"\u001b[0m\u001b[0;34m\u001b[0m\u001b[0;34m\u001b[0m\u001b[0m\n\u001b[1;32m     12\u001b[0m             \u001b[0;34m\"a perfect binary tree with length 2n -1\"\u001b[0m\u001b[0;34m\u001b[0m\u001b[0;34m\u001b[0m\u001b[0m\n",
      "\u001b[0;31mValueError\u001b[0m: Sequence of Length 4 does not represent a perfect binary tree with length 2n -1"
     ]
    }
   ],
   "source": [
    "non_tree = \"+ 24 12 -\".split()\n",
    "iterator = LevelOrderIterator(non_tree)"
   ]
  },
  {
   "cell_type": "code",
   "execution_count": 5,
   "id": "21d63a9a-694c-4224-acc8-cdb11cc74560",
   "metadata": {},
   "outputs": [],
   "source": [
    "def _is_perfect_length(sequence):\n",
    "    \"\"\"True if sequence has a length 2n -1, otherwise False.\"\"\"\n",
    "    n = len(sequence)\n",
    "    return ((n + 1) & n == 0) and (n != 0)\n",
    "\n",
    "\n",
    "def _left_child(index):\n",
    "    return 2 * index + 1\n",
    "\n",
    "\n",
    "def _right_child(index):\n",
    "    return 2 * index + 2\n",
    "\n",
    "\n",
    "class PreOrderIterator:\n",
    "    \n",
    "    def __init__(self, sequence):\n",
    "        if not _is_perfect_length(sequence):\n",
    "            raise ValueError(\n",
    "            f\"Sequence of Length {len(sequence)} does not represent \"\n",
    "            \"a perfect binary tree with length 2n -1\"\n",
    "            )            \n",
    "        self._sequence = sequence\n",
    "        self._stack = [0]\n",
    "        \n",
    "        \n",
    "    def __next__(self):\n",
    "        if len(self._stack) == 0:\n",
    "            raise StopIteration\n",
    "        \n",
    "        index = self._stack.pop()\n",
    "        result = self._sequence[index]\n",
    "        \n",
    "        # Pre-order: Push right child first so left child is\n",
    "        # popped and processed first. Last-in, first-out\n",
    "        right_child_index = _right_child(index)\n",
    "        if right_child_index < len(self._sequence):\n",
    "            self._stack.append(right_child_index)\n",
    "            \n",
    "        left_child_index = _left_child(index)\n",
    "        if left_child_index < len(self._sequence):\n",
    "            self._stack.append(left_child_index)\n",
    "        \n",
    "        return result\n",
    "    \n",
    "    def __iter__(self):\n",
    "        return self"
   ]
  },
  {
   "cell_type": "code",
   "execution_count": 22,
   "id": "f4f2fce9-2a87-49b5-8c17-3c8962c3935d",
   "metadata": {},
   "outputs": [
    {
     "data": {
      "text/plain": [
       "'* + a b - c d'"
      ]
     },
     "execution_count": 22,
     "metadata": {},
     "output_type": "execute_result"
    }
   ],
   "source": [
    "expr_tree = ['*', '+', '-', 'a', 'b', 'c', 'd']\n",
    "iterator = PreOrderIterator(expr_tree)\n",
    "\" \".join(iterator)"
   ]
  },
  {
   "cell_type": "code",
   "execution_count": 11,
   "id": "277bd9f7-d4e9-459c-8cba-26f585a184e5",
   "metadata": {},
   "outputs": [],
   "source": [
    "missing = object()\n",
    "expression_tree = ['+', 'r', '*', missing, missing, 'p', 'q']"
   ]
  },
  {
   "cell_type": "code",
   "execution_count": 6,
   "metadata": {},
   "outputs": [],
   "source": [
    "class SkipMissingIterator():\n",
    "\n",
    "    def __init__(self, iterable):\n",
    "        self._iterator = iter(iterable)\n",
    "\n",
    "    def __next__(self):\n",
    "        while True:\n",
    "            item = next(self._iterator)\n",
    "            if item is not missing:\n",
    "                return item\n",
    "\n",
    "    def __iter__(self):\n",
    "        return self"
   ]
  },
  {
   "cell_type": "code",
   "execution_count": 16,
   "metadata": {},
   "outputs": [
    {
     "output_type": "execute_result",
     "data": {
      "text/plain": [
       "['*', '+', '-', 'a', 'b', 'c', 'd']"
      ]
     },
     "metadata": {},
     "execution_count": 16
    }
   ],
   "source": [
    "missing = object()\n",
    "expression_tree = ['+', 'r', '*', missing, missing, 'p', 'q']\n",
    "iterator = SkipMissingIterator(expr_tree)\n",
    "list(iterator)"
   ]
  },
  {
   "cell_type": "code",
   "execution_count": 7,
   "metadata": {},
   "outputs": [],
   "source": [
    "class InOrderIterator:\n",
    "\n",
    "    def __init__(self, sequence):\n",
    "        if not _is_perfect_length(sequence):\n",
    "            raise ValueError(f\"Sequence of length {len(sequence)} does not represent \"\n",
    "                    \"a perfect binary tree with length 2n-1\")\n",
    "        self._sequence = sequence\n",
    "        self._stack = []\n",
    "        self._index = 0\n",
    "\n",
    "    def __next__(self):\n",
    "        if (len(self._stack) == 0) and (self._index >= len(self._sequence)):\n",
    "            raise StopIteration\n",
    "\n",
    "        # Push left children onto the stack while possible\n",
    "        while self._index < len(self._sequence):\n",
    "            self._stack.append(self._index)\n",
    "            self._index = _left_child(self._index)\n",
    "\n",
    "        # Pop from stack and process, before moving to the right child\n",
    "        index = self._stack.pop()\n",
    "        result = self._sequence[index]\n",
    "        self._index = _right_child(index)\n",
    "        return result\n",
    "\n",
    "    def __iter__(self):\n",
    "        return self"
   ]
  },
  {
   "cell_type": "code",
   "execution_count": 6,
   "metadata": {},
   "outputs": [
    {
     "output_type": "execute_result",
     "data": {
      "text/plain": [
       "'a + b * c - d'"
      ]
     },
     "metadata": {},
     "execution_count": 6
    }
   ],
   "source": [
    "expr_tree = \"* + - a b c d\".split()\n",
    "iterator = InOrderIterator(expr_tree)\n",
    "\" \".join(iterator)"
   ]
  },
  {
   "cell_type": "code",
   "execution_count": 7,
   "metadata": {},
   "outputs": [],
   "source": [
    "typesetting_table = {\n",
    "    \"-\" : \"\\u2212\", # Minus sign\n",
    "    \"*\" : \"\\u00D7\", # Multiplication sign\n",
    "    \"/\" : \"\\u00F7\", # Division sign\n",
    "}"
   ]
  },
  {
   "cell_type": "code",
   "execution_count": 8,
   "metadata": {},
   "outputs": [],
   "source": [
    "class TranslationIterator:\n",
    "\n",
    "    def __init__(self, table, iterable):\n",
    "        self._table = table\n",
    "        self._iterator = iter(iterable)\n",
    "\n",
    "    def __next__(self):\n",
    "        item = next(self._iterator)\n",
    "        return self._table.get(item, item)\n",
    "\n",
    "    def __iter__(self):\n",
    "        return self"
   ]
  },
  {
   "cell_type": "code",
   "execution_count": 14,
   "metadata": {},
   "outputs": [],
   "source": [
    "missing = object()\n",
    "m = missing"
   ]
  },
  {
   "cell_type": "code",
   "execution_count": 11,
   "metadata": {},
   "outputs": [],
   "source": [
    "expr_tree = [\n",
    "                \"-\",\n",
    "            \"*\",            \"/\",\n",
    "        \"p\",    \"q\",    \"r\",    \"+\",\n",
    "    m,  m,      m,  m,  m,  m,  \"s\", \"t\"\n",
    "]"
   ]
  },
  {
   "cell_type": "code",
   "execution_count": 14,
   "metadata": {},
   "outputs": [
    {
     "output_type": "execute_result",
     "data": {
      "text/plain": [
       "'p × q − r ÷ s + t'"
      ]
     },
     "metadata": {},
     "execution_count": 14
    }
   ],
   "source": [
    "iterator = TranslationIterator(\n",
    "    typesetting_table,\n",
    "    SkipMissingIterator(InOrderIterator(expr_tree))\n",
    ")\n",
    "\n",
    "\" \".join(iterator)"
   ]
  },
  {
   "source": [
    "Iterables"
   ],
   "cell_type": "markdown",
   "metadata": {}
  },
  {
   "cell_type": "code",
   "execution_count": 9,
   "metadata": {},
   "outputs": [],
   "source": [
    "class PerfectBinaryTree:\n",
    "\n",
    "    def __init__(self, breadth_first_items):\n",
    "        self._sequence = tuple(breadth_first_items)\n",
    "        if not _is_perfect_length(self._sequence):\n",
    "            raise ValueError(f\"Iterable series of length {len(self._sequence)} does not represent \"\n",
    "        \"a perfect binary tree with length 2n-1\")\n",
    "\n",
    "    def __iter__(self):\n",
    "        return SkipMissingIterator(PreOrderIterator(self._sequence))"
   ]
  },
  {
   "cell_type": "code",
   "execution_count": 10,
   "metadata": {},
   "outputs": [],
   "source": [
    "tree = PerfectBinaryTree(\"+ * / u v w x\".split())"
   ]
  },
  {
   "cell_type": "code",
   "execution_count": 11,
   "metadata": {},
   "outputs": [],
   "source": [
    "iterator = iter(tree)"
   ]
  },
  {
   "cell_type": "code",
   "execution_count": 12,
   "metadata": {},
   "outputs": [
    {
     "output_type": "execute_result",
     "data": {
      "text/plain": [
       "<__main__.SkipMissingIterator at 0x7fb0c99e7760>"
      ]
     },
     "metadata": {},
     "execution_count": 12
    }
   ],
   "source": [
    "iterator"
   ]
  },
  {
   "cell_type": "code",
   "execution_count": 15,
   "metadata": {},
   "outputs": [
    {
     "output_type": "execute_result",
     "data": {
      "text/plain": [
       "'*'"
      ]
     },
     "metadata": {},
     "execution_count": 15
    }
   ],
   "source": [
    "next(iterator)"
   ]
  },
  {
   "cell_type": "code",
   "execution_count": 16,
   "metadata": {},
   "outputs": [
    {
     "output_type": "execute_result",
     "data": {
      "text/plain": [
       "'u'"
      ]
     },
     "metadata": {},
     "execution_count": 16
    }
   ],
   "source": [
    "next(iterator)"
   ]
  },
  {
   "cell_type": "code",
   "execution_count": 17,
   "metadata": {},
   "outputs": [
    {
     "output_type": "execute_result",
     "data": {
      "text/plain": [
       "'v'"
      ]
     },
     "metadata": {},
     "execution_count": 17
    }
   ],
   "source": [
    "next(iterator)"
   ]
  },
  {
   "cell_type": "code",
   "execution_count": 18,
   "metadata": {},
   "outputs": [
    {
     "output_type": "execute_result",
     "data": {
      "text/plain": [
       "'/'"
      ]
     },
     "metadata": {},
     "execution_count": 18
    }
   ],
   "source": [
    "next(iterator)"
   ]
  },
  {
   "cell_type": "code",
   "execution_count": 19,
   "metadata": {},
   "outputs": [
    {
     "output_type": "execute_result",
     "data": {
      "text/plain": [
       "'w'"
      ]
     },
     "metadata": {},
     "execution_count": 19
    }
   ],
   "source": [
    "next(iterator)"
   ]
  },
  {
   "cell_type": "code",
   "execution_count": 20,
   "metadata": {},
   "outputs": [
    {
     "output_type": "execute_result",
     "data": {
      "text/plain": [
       "'x'"
      ]
     },
     "metadata": {},
     "execution_count": 20
    }
   ],
   "source": [
    "next(iterator)"
   ]
  },
  {
   "cell_type": "code",
   "execution_count": 21,
   "metadata": {},
   "outputs": [
    {
     "output_type": "error",
     "ename": "StopIteration",
     "evalue": "",
     "traceback": [
      "\u001b[0;31m---------------------------------------------------------------------------\u001b[0m",
      "\u001b[0;31mStopIteration\u001b[0m                             Traceback (most recent call last)",
      "\u001b[0;32m<ipython-input-21-4ce711c44abc>\u001b[0m in \u001b[0;36m<module>\u001b[0;34m\u001b[0m\n\u001b[0;32m----> 1\u001b[0;31m \u001b[0mnext\u001b[0m\u001b[0;34m(\u001b[0m\u001b[0miterator\u001b[0m\u001b[0;34m)\u001b[0m\u001b[0;34m\u001b[0m\u001b[0;34m\u001b[0m\u001b[0m\n\u001b[0m",
      "\u001b[0;32m<ipython-input-6-aa96030f8ce4>\u001b[0m in \u001b[0;36m__next__\u001b[0;34m(self)\u001b[0m\n\u001b[1;32m      6\u001b[0m     \u001b[0;32mdef\u001b[0m \u001b[0m__next__\u001b[0m\u001b[0;34m(\u001b[0m\u001b[0mself\u001b[0m\u001b[0;34m)\u001b[0m\u001b[0;34m:\u001b[0m\u001b[0;34m\u001b[0m\u001b[0;34m\u001b[0m\u001b[0m\n\u001b[1;32m      7\u001b[0m         \u001b[0;32mwhile\u001b[0m \u001b[0;32mTrue\u001b[0m\u001b[0;34m:\u001b[0m\u001b[0;34m\u001b[0m\u001b[0;34m\u001b[0m\u001b[0m\n\u001b[0;32m----> 8\u001b[0;31m             \u001b[0mitem\u001b[0m \u001b[0;34m=\u001b[0m \u001b[0mnext\u001b[0m\u001b[0;34m(\u001b[0m\u001b[0mself\u001b[0m\u001b[0;34m.\u001b[0m\u001b[0m_iterator\u001b[0m\u001b[0;34m)\u001b[0m\u001b[0;34m\u001b[0m\u001b[0;34m\u001b[0m\u001b[0m\n\u001b[0m\u001b[1;32m      9\u001b[0m             \u001b[0;32mif\u001b[0m \u001b[0mitem\u001b[0m \u001b[0;32mis\u001b[0m \u001b[0;32mnot\u001b[0m \u001b[0mmissing\u001b[0m\u001b[0;34m:\u001b[0m\u001b[0;34m\u001b[0m\u001b[0;34m\u001b[0m\u001b[0m\n\u001b[1;32m     10\u001b[0m                 \u001b[0;32mreturn\u001b[0m \u001b[0mitem\u001b[0m\u001b[0;34m\u001b[0m\u001b[0;34m\u001b[0m\u001b[0m\n",
      "\u001b[0;32m<ipython-input-5-05ad342b7fd8>\u001b[0m in \u001b[0;36m__next__\u001b[0;34m(self)\u001b[0m\n\u001b[1;32m     27\u001b[0m     \u001b[0;32mdef\u001b[0m \u001b[0m__next__\u001b[0m\u001b[0;34m(\u001b[0m\u001b[0mself\u001b[0m\u001b[0;34m)\u001b[0m\u001b[0;34m:\u001b[0m\u001b[0;34m\u001b[0m\u001b[0;34m\u001b[0m\u001b[0m\n\u001b[1;32m     28\u001b[0m         \u001b[0;32mif\u001b[0m \u001b[0mlen\u001b[0m\u001b[0;34m(\u001b[0m\u001b[0mself\u001b[0m\u001b[0;34m.\u001b[0m\u001b[0m_stack\u001b[0m\u001b[0;34m)\u001b[0m \u001b[0;34m==\u001b[0m \u001b[0;36m0\u001b[0m\u001b[0;34m:\u001b[0m\u001b[0;34m\u001b[0m\u001b[0;34m\u001b[0m\u001b[0m\n\u001b[0;32m---> 29\u001b[0;31m             \u001b[0;32mraise\u001b[0m \u001b[0mStopIteration\u001b[0m\u001b[0;34m\u001b[0m\u001b[0;34m\u001b[0m\u001b[0m\n\u001b[0m\u001b[1;32m     30\u001b[0m \u001b[0;34m\u001b[0m\u001b[0m\n\u001b[1;32m     31\u001b[0m         \u001b[0mindex\u001b[0m \u001b[0;34m=\u001b[0m \u001b[0mself\u001b[0m\u001b[0;34m.\u001b[0m\u001b[0m_stack\u001b[0m\u001b[0;34m.\u001b[0m\u001b[0mpop\u001b[0m\u001b[0;34m(\u001b[0m\u001b[0;34m)\u001b[0m\u001b[0;34m\u001b[0m\u001b[0;34m\u001b[0m\u001b[0m\n",
      "\u001b[0;31mStopIteration\u001b[0m: "
     ]
    }
   ],
   "source": [
    "next(iterator)"
   ]
  },
  {
   "cell_type": "code",
   "execution_count": 23,
   "metadata": {},
   "outputs": [
    {
     "output_type": "execute_result",
     "data": {
      "text/plain": [
       "'+ * u v / w x'"
      ]
     },
     "metadata": {},
     "execution_count": 23
    }
   ],
   "source": [
    "\" \".join(tree)"
   ]
  },
  {
   "cell_type": "code",
   "execution_count": 24,
   "metadata": {},
   "outputs": [
    {
     "output_type": "stream",
     "name": "stdout",
     "text": [
      "+\n*\nu\nv\n/\nw\nx\n"
     ]
    }
   ],
   "source": [
    "for item in tree:\n",
    "    print(item)"
   ]
  },
  {
   "cell_type": "code",
   "execution_count": 25,
   "metadata": {},
   "outputs": [],
   "source": [
    "from fractions import Fraction\n",
    "\n",
    "\n",
    "class RationalRange:\n",
    "    def __init__(self, start, stop, num_steps):\n",
    "        if num_steps != int(num_steps):\n",
    "            raise ValueError(f\"num_steps {num_steps} is not positive\")\n",
    "        self._start = Fraction(start)\n",
    "        self._num_steps = num_steps\n",
    "        self._step = Fraction(stop - start, num_steps)\n",
    "\n",
    "    def __getitem__(self, index):\n",
    "        if not (0 <= index < self._num_steps):\n",
    "            raise IndexError\n",
    "        return self._start + index * self._step"
   ]
  },
  {
   "cell_type": "code",
   "execution_count": 28,
   "metadata": {},
   "outputs": [],
   "source": [
    "r = RationalRange(5, 13, 6)\n",
    "iterator = iter(r)"
   ]
  },
  {
   "cell_type": "code",
   "execution_count": 29,
   "metadata": {},
   "outputs": [
    {
     "output_type": "execute_result",
     "data": {
      "text/plain": [
       "Fraction(5, 1)"
      ]
     },
     "metadata": {},
     "execution_count": 29
    }
   ],
   "source": [
    "next(iterator)"
   ]
  },
  {
   "cell_type": "code",
   "execution_count": 30,
   "metadata": {},
   "outputs": [
    {
     "output_type": "execute_result",
     "data": {
      "text/plain": [
       "Fraction(19, 3)"
      ]
     },
     "metadata": {},
     "execution_count": 30
    }
   ],
   "source": [
    "next(iterator)"
   ]
  },
  {
   "cell_type": "code",
   "execution_count": 31,
   "metadata": {},
   "outputs": [
    {
     "output_type": "execute_result",
     "data": {
      "text/plain": [
       "Fraction(23, 3)"
      ]
     },
     "metadata": {},
     "execution_count": 31
    }
   ],
   "source": [
    "next(iterator)"
   ]
  },
  {
   "cell_type": "code",
   "execution_count": 32,
   "metadata": {},
   "outputs": [
    {
     "output_type": "execute_result",
     "data": {
      "text/plain": [
       "Fraction(9, 1)"
      ]
     },
     "metadata": {},
     "execution_count": 32
    }
   ],
   "source": [
    "next(iterator)"
   ]
  },
  {
   "cell_type": "code",
   "execution_count": 33,
   "metadata": {},
   "outputs": [
    {
     "output_type": "execute_result",
     "data": {
      "text/plain": [
       "Fraction(31, 3)"
      ]
     },
     "metadata": {},
     "execution_count": 33
    }
   ],
   "source": [
    "next(iterator)"
   ]
  },
  {
   "cell_type": "code",
   "execution_count": 34,
   "metadata": {},
   "outputs": [
    {
     "output_type": "execute_result",
     "data": {
      "text/plain": [
       "Fraction(35, 3)"
      ]
     },
     "metadata": {},
     "execution_count": 34
    }
   ],
   "source": [
    "next(iterator)"
   ]
  },
  {
   "cell_type": "code",
   "execution_count": 35,
   "metadata": {},
   "outputs": [
    {
     "output_type": "error",
     "ename": "StopIteration",
     "evalue": "",
     "traceback": [
      "\u001b[0;31m---------------------------------------------------------------------------\u001b[0m",
      "\u001b[0;31mStopIteration\u001b[0m                             Traceback (most recent call last)",
      "\u001b[0;32m<ipython-input-35-4ce711c44abc>\u001b[0m in \u001b[0;36m<module>\u001b[0;34m\u001b[0m\n\u001b[0;32m----> 1\u001b[0;31m \u001b[0mnext\u001b[0m\u001b[0;34m(\u001b[0m\u001b[0miterator\u001b[0m\u001b[0;34m)\u001b[0m\u001b[0;34m\u001b[0m\u001b[0;34m\u001b[0m\u001b[0m\n\u001b[0m",
      "\u001b[0;31mStopIteration\u001b[0m: "
     ]
    }
   ],
   "source": [
    "next(iterator)"
   ]
  },
  {
   "cell_type": "code",
   "execution_count": 36,
   "metadata": {},
   "outputs": [
    {
     "output_type": "stream",
     "name": "stdout",
     "text": [
      "5\n19/3\n23/3\n9\n31/3\n35/3\n"
     ]
    }
   ],
   "source": [
    "for item in r:\n",
    "    print(item)"
   ]
  },
  {
   "cell_type": "code",
   "execution_count": 37,
   "metadata": {},
   "outputs": [
    {
     "output_type": "execute_result",
     "data": {
      "text/plain": [
       "[5.0,\n",
       " 6.333333333333333,\n",
       " 7.666666666666667,\n",
       " 9.0,\n",
       " 10.333333333333334,\n",
       " 11.666666666666666]"
      ]
     },
     "metadata": {},
     "execution_count": 37
    }
   ],
   "source": [
    "[float(item) for item in r]"
   ]
  },
  {
   "cell_type": "code",
   "execution_count": 38,
   "metadata": {},
   "outputs": [
    {
     "output_type": "execute_result",
     "data": {
      "text/plain": [
       "Fraction(50, 1)"
      ]
     },
     "metadata": {},
     "execution_count": 38
    }
   ],
   "source": [
    "sum(r)"
   ]
  },
  {
   "cell_type": "code",
   "execution_count": 39,
   "metadata": {},
   "outputs": [
    {
     "output_type": "execute_result",
     "data": {
      "text/plain": [
       "datetime.datetime(2021, 5, 30, 15, 1, 31, 244258)"
      ]
     },
     "metadata": {},
     "execution_count": 39
    }
   ],
   "source": [
    "import datetime\n",
    "timestamps = iter(datetime.datetime.now, None)\n",
    "next(timestamps)"
   ]
  },
  {
   "cell_type": "code",
   "execution_count": 40,
   "metadata": {},
   "outputs": [
    {
     "output_type": "execute_result",
     "data": {
      "text/plain": [
       "datetime.datetime(2021, 5, 30, 15, 2, 7, 272490)"
      ]
     },
     "metadata": {},
     "execution_count": 40
    }
   ],
   "source": [
    "next(timestamps)"
   ]
  },
  {
   "cell_type": "code",
   "execution_count": 42,
   "metadata": {},
   "outputs": [
    {
     "output_type": "stream",
     "name": "stdout",
     "text": [
      "2021-05-30 15:05:56.683982 80969809920\n",
      "2021-05-30 15:05:57.685386 80969809920\n",
      "2021-05-30 15:05:58.685613 80969809920\n",
      "2021-05-30 15:05:59.686804 80969809920\n",
      "2021-05-30 15:06:00.688073 80969809920\n"
     ]
    },
    {
     "output_type": "error",
     "ename": "KeyboardInterrupt",
     "evalue": "",
     "traceback": [
      "\u001b[0;31m---------------------------------------------------------------------------\u001b[0m",
      "\u001b[0;31mKeyboardInterrupt\u001b[0m                         Traceback (most recent call last)",
      "\u001b[0;32m<ipython-input-42-f702d3673d95>\u001b[0m in \u001b[0;36m<module>\u001b[0;34m\u001b[0m\n\u001b[1;32m      9\u001b[0m \u001b[0;32mfor\u001b[0m \u001b[0mtimestamp\u001b[0m\u001b[0;34m,\u001b[0m \u001b[0mfree_bytes\u001b[0m \u001b[0;32min\u001b[0m \u001b[0mzip\u001b[0m\u001b[0;34m(\u001b[0m\u001b[0mtimestamps\u001b[0m\u001b[0;34m,\u001b[0m \u001b[0mfree_space_readings\u001b[0m\u001b[0;34m)\u001b[0m\u001b[0;34m:\u001b[0m\u001b[0;34m\u001b[0m\u001b[0;34m\u001b[0m\u001b[0m\n\u001b[1;32m     10\u001b[0m     \u001b[0mprint\u001b[0m\u001b[0;34m(\u001b[0m\u001b[0mtimestamp\u001b[0m\u001b[0;34m,\u001b[0m \u001b[0mfree_bytes\u001b[0m\u001b[0;34m)\u001b[0m\u001b[0;34m\u001b[0m\u001b[0;34m\u001b[0m\u001b[0m\n\u001b[0;32m---> 11\u001b[0;31m     \u001b[0mtime\u001b[0m\u001b[0;34m.\u001b[0m\u001b[0msleep\u001b[0m\u001b[0;34m(\u001b[0m\u001b[0;36m1.0\u001b[0m\u001b[0;34m)\u001b[0m\u001b[0;34m\u001b[0m\u001b[0;34m\u001b[0m\u001b[0m\n\u001b[0m",
      "\u001b[0;31mKeyboardInterrupt\u001b[0m: "
     ]
    }
   ],
   "source": [
    "from pathlib import Path\n",
    "cwd = Path.cwd()\n",
    "from shutil import disk_usage\n",
    "def free_space():\n",
    "    return disk_usage(cwd).free\n",
    "\n",
    "free_space_readings = iter(free_space, None)\n",
    "import time\n",
    "for timestamp, free_bytes in zip(timestamps, free_space_readings):\n",
    "    print(timestamp, free_bytes)\n",
    "    time.sleep(1.0)\n"
   ]
  },
  {
   "cell_type": "code",
   "execution_count": null,
   "metadata": {},
   "outputs": [],
   "source": []
  }
 ],
 "metadata": {
  "kernelspec": {
   "display_name": "myenv",
   "language": "python",
   "name": "myenv"
  },
  "language_info": {
   "codemirror_mode": {
    "name": "ipython",
    "version": 3
   },
   "file_extension": ".py",
   "mimetype": "text/x-python",
   "name": "python",
   "nbconvert_exporter": "python",
   "pygments_lexer": "ipython3",
   "version": "3.9.5-final"
  }
 },
 "nbformat": 4,
 "nbformat_minor": 5
}